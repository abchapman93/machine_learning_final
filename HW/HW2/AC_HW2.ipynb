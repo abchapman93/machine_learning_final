{
 "cells": [
  {
   "cell_type": "code",
   "execution_count": 1,
   "metadata": {
    "collapsed": false
   },
   "outputs": [],
   "source": [
    "import os\n",
    "#%matplotlib inline\n",
    "\n",
    "#import matplotlib\n",
    "import numpy as np\n",
    "#import matplotlib.pyplot as plt\n",
    "DATADIR = os.path.join(os.getcwd(),'Homework 2 Resources')\n",
    "os.path.exists(DATADIR)\n",
    "from numpy import random as rnd"
   ]
  },
  {
   "cell_type": "code",
   "execution_count": 2,
   "metadata": {
    "collapsed": false
   },
   "outputs": [],
   "source": [
    "fFeatures = os.path.join(DATADIR, 'X.txt')\n",
    "fLabels = os.path.join(DATADIR, 'y.txt')"
   ]
  },
  {
   "cell_type": "code",
   "execution_count": 5,
   "metadata": {
    "collapsed": false
   },
   "outputs": [
    {
     "data": {
      "text/plain": [
       "array([[ 1.84953],\n",
       "       [ 1.89349],\n",
       "       [ 1.65939],\n",
       "       [ 1.13482],\n",
       "       [ 0.68154],\n",
       "       [ 1.20309],\n",
       "       [ 1.30668],\n",
       "       [ 0.38246],\n",
       "       [ 0.42159],\n",
       "       [ 1.95597],\n",
       "       [ 0.94903],\n",
       "       [ 1.72711],\n",
       "       [ 0.89127],\n",
       "       [ 0.25564],\n",
       "       [ 1.1312 ],\n",
       "       [ 0.38307],\n",
       "       [ 1.2162 ],\n",
       "       [ 1.14898],\n",
       "       [ 0.36351],\n",
       "       [ 1.26137],\n",
       "       [ 0.44797],\n",
       "       [ 1.40307],\n",
       "       [ 0.91403],\n",
       "       [ 1.71289],\n",
       "       [ 0.68763],\n",
       "       [ 1.10041],\n",
       "       [ 0.95357],\n",
       "       [ 1.67709],\n",
       "       [ 1.65485],\n",
       "       [ 0.40076],\n",
       "       [ 0.98953],\n",
       "       [ 1.96683],\n",
       "       [ 1.71697],\n",
       "       [ 1.81731],\n",
       "       [ 1.99749],\n",
       "       [ 1.91317],\n",
       "       [ 0.90448],\n",
       "       [ 1.67562],\n",
       "       [ 0.42553],\n",
       "       [ 1.7955 ],\n",
       "       [ 0.06809],\n",
       "       [ 1.19197],\n",
       "       [ 0.47886],\n",
       "       [ 0.14537],\n",
       "       [ 1.31603],\n",
       "       [ 0.36128],\n",
       "       [ 1.08909],\n",
       "       [ 0.00454],\n",
       "       [ 1.76331],\n",
       "       [ 0.20412],\n",
       "       [ 0.19153],\n",
       "       [ 0.52672],\n",
       "       [ 1.52642],\n",
       "       [ 0.33661],\n",
       "       [ 0.8718 ],\n",
       "       [ 1.10134],\n",
       "       [ 0.08721],\n",
       "       [ 0.88823],\n",
       "       [ 1.94707],\n",
       "       [ 0.88328],\n",
       "       [ 1.1044 ],\n",
       "       [ 1.77145],\n",
       "       [ 0.95856],\n",
       "       [ 0.96458],\n",
       "       [ 1.08959],\n",
       "       [ 0.05541],\n",
       "       [ 0.4356 ],\n",
       "       [ 1.99548],\n",
       "       [ 0.56789],\n",
       "       [ 0.94084],\n",
       "       [ 1.66877],\n",
       "       [ 1.62097],\n",
       "       [ 1.91811],\n",
       "       [ 1.98318],\n",
       "       [ 0.88607],\n",
       "       [ 0.89237],\n",
       "       [ 0.97974],\n",
       "       [ 0.35678],\n",
       "       [ 1.61828],\n",
       "       [ 0.3668 ],\n",
       "       [ 1.22574],\n",
       "       [ 0.95951],\n",
       "       [ 1.26201],\n",
       "       [ 1.054  ],\n",
       "       [ 1.44968],\n",
       "       [ 0.98594],\n",
       "       [ 0.4826 ],\n",
       "       [ 1.97902],\n",
       "       [ 1.28493],\n",
       "       [ 1.10755],\n",
       "       [ 1.49657],\n",
       "       [ 1.43573],\n",
       "       [ 0.63409],\n",
       "       [ 0.85052],\n",
       "       [ 0.34826],\n",
       "       [ 1.58162],\n",
       "       [ 1.65899],\n",
       "       [ 1.75779],\n",
       "       [ 1.44944],\n",
       "       [ 1.18448]])"
      ]
     },
     "execution_count": 5,
     "metadata": {},
     "output_type": "execute_result"
    }
   ],
   "source": [
    "import pandas as pd\n",
    "X = pd.read_csv(fFeatures,header=None)\n",
    "X = np.array(X)\n",
    "y = pd.read_csv(fLabels,header=None)\n",
    "y = np.array(y)\n",
    "np.shape(X)\n",
    "X"
   ]
  },
  {
   "cell_type": "code",
   "execution_count": 4,
   "metadata": {
    "collapsed": false
   },
   "outputs": [],
   "source": [
    "#X_new = np.c_[np.ones((99,1)),X]\n",
    "X_b = np.c_[np.ones((100,1)),X]\n",
    "X_new = np.array([[0],[2]])\n",
    "X_new_b = np.c_[np.ones((2,1)),X_new]\n",
    "#np.shape(X_new_b        )\n",
    "#X_new\n",
    "#X_b"
   ]
  },
  {
   "cell_type": "code",
   "execution_count": 5,
   "metadata": {
    "collapsed": false
   },
   "outputs": [
    {
     "data": {
      "text/plain": [
       "[array([[ 0.4740113 ],\n",
       "        [ 0.54068399]]), array([[ 0.88165497],\n",
       "        [ 1.02632068]]), array([[ 1.2705281],\n",
       "        [ 1.4883446]]), array([[ 1.64152237],\n",
       "        [ 1.92788091]]), array([[ 1.99548701],\n",
       "        [ 2.34600121]]), array([[ 13.96454955],\n",
       "        [  6.84195152]])]"
      ]
     },
     "execution_count": 5,
     "metadata": {},
     "output_type": "execute_result"
    },
    {
     "data": {
      "image/png": "[encoded data removed]",
      "text/plain": [
       "<matplotlib.figure.Figure at 0x1152a90b8>"
      ]
     },
     "metadata": {},
     "output_type": "display_data"
    }
   ],
   "source": [
    "\n",
    "\n",
    "import matplotlib.cm as cm\n",
    "def plot_grad_descent(X, y, eta, theta=rnd.randn(2,1),n_iterations=2000,graph=True):\n",
    "    model_parameters = []\n",
    "    m = len(X)\n",
    "    X_b = np.c_[np.ones((m,1)),X]\n",
    "    X_new = np.array([[0],[2]]) #used to show the hypothesis function\n",
    "    X_new_b = np.c_[np.ones((2,1)),X_new]\n",
    "   \n",
    "    assert np.shape(X) == np.shape(y), \"Features and values do not match\"\n",
    "    \n",
    "    counter = 0\n",
    "    color = iter(cm.rainbow(np.linspace(0,1,10)))\n",
    "    for iteration in range(n_iterations+1):\n",
    "        gradients = 2/len(X_b) * X_b.T.dot(X_b.dot(theta) - y)\n",
    "        theta = theta - eta*gradients\n",
    "        if iteration < 5 or iteration == n_iterations: \n",
    "            model_parameters.append(theta)\n",
    "        if iteration % 200 == 0:\n",
    "            try:\n",
    "                y_predict = X_new_b.dot(theta)\n",
    "                c=next(color) #use different colors\n",
    "                if graph == True:\n",
    "                    plt.plot(X_new, y_predict, color=c)\n",
    "            except StopIteration:\n",
    "                pass\n",
    "        \n",
    "    if graph == True:\n",
    "        plt.title('Learning rate: %s'%str(eta))\n",
    "        plt.scatter(X, y)\n",
    "        plt.axis([-0.5,2.5,-5,35])\n",
    "    return model_parameters\n",
    "    \n",
    "plot_grad_descent(X,y,learning_rates[1])"
   ]
  },
  {
   "cell_type": "code",
   "execution_count": 6,
   "metadata": {
    "collapsed": false
   },
   "outputs": [],
   "source": [
    "model_parameters = {}\n",
    "model_parameters['learning rate 0.0001'] = plot_grad_descent(X,y,learning_rates[0],graph=False)\n",
    "model_parameters['learning rate 0.01'] = plot_grad_descent(X,y,learning_rates[1],graph=False)\n",
    "model_parameters['learning rate 0.5'] = plot_grad_descent(X,y,learning_rates[2],graph=False)"
   ]
  },
  {
   "cell_type": "code",
   "execution_count": 7,
   "metadata": {
    "collapsed": false
   },
   "outputs": [
    {
     "name": "stdout",
     "output_type": "stream",
     "text": [
      "iterations 1-5, 2000:\n",
      "learning rate 0.01 [array([[ 0.4740113 ],\n",
      "       [ 0.54068399]]), array([[ 0.88165497],\n",
      "       [ 1.02632068]]), array([[ 1.2705281],\n",
      "       [ 1.4883446]]), array([[ 1.64152237],\n",
      "       [ 1.92788091]]), array([[ 1.99548701],\n",
      "       [ 2.34600121]]), array([[ 13.96454955],\n",
      "       [  6.84195152]])] \n",
      "\n",
      "iterations 1-5, 2000:\n",
      "learning rate 0.5 [array([[ 21.41418129],\n",
      "       [ 25.55179426]]), array([[ -6.4851635 ],\n",
      "       [-10.91200857]]), array([[ 33.37591714],\n",
      "       [ 38.31111235]]), array([[-20.43324812],\n",
      "       [-30.54020688]]), array([[ 54.83284524],\n",
      "       [ 63.63794601]]), array([[  4.25218058e+280],\n",
      "       [  5.36660540e+280]])] \n",
      "\n",
      "iterations 1-5, 2000:\n",
      "learning rate 0.0001 [array([[ 0.0509344 ],\n",
      "       [ 0.03535748]]), array([[ 0.05520593],\n",
      "       [ 0.04045931]]), array([[ 0.0594755 ],\n",
      "       [ 0.04555866]]), array([[ 0.06374309],\n",
      "       [ 0.05065553]]), array([[ 0.06800872],\n",
      "       [ 0.05574993]]), array([[ 5.65474344],\n",
      "       [ 6.54462991]])] \n",
      "\n"
     ]
    }
   ],
   "source": [
    "for key in model_parameters:\n",
    "    print('iterations 1-5, 2000:')\n",
    "    print(key, model_parameters[key],'\\n')"
   ]
  },
  {
   "cell_type": "code",
   "execution_count": 8,
   "metadata": {
    "collapsed": false
   },
   "outputs": [
    {
     "data": {
      "text/plain": [
       "array([[ 13.96454955],\n",
       "       [  6.84195152]])"
      ]
     },
     "execution_count": 8,
     "metadata": {},
     "output_type": "execute_result"
    }
   ],
   "source": [
    "#hypothesis function\n",
    "theta_best = plot_grad_descent(X,y,learning_rates[1],graph=False)[-1]\n",
    "#hypothesis_parameters.T.dot(X_new)\n",
    "y_predict = X_new_b.dot(theta_best)\n",
    "theta_best"
   ]
  },
  {
   "cell_type": "code",
   "execution_count": 9,
   "metadata": {
    "collapsed": false
   },
   "outputs": [
    {
     "data": {
      "text/plain": [
       "array([[ 1.45158],\n",
       "       [ 1.15506],\n",
       "       [ 2.12182],\n",
       "       [ 0.48934],\n",
       "       [ 0.85787]])"
      ]
     },
     "execution_count": 9,
     "metadata": {},
     "output_type": "execute_result"
    }
   ],
   "source": [
    "#come back to this\n",
    "fPredict = os.path.join(DATADIR, 'predict.txt')\n",
    "XPredict = np.array(pd.read_csv(fPredict,header=None))\n",
    "XPredict"
   ]
  },
  {
   "cell_type": "code",
   "execution_count": 10,
   "metadata": {
    "collapsed": false
   },
   "outputs": [
    {
     "name": "stdout",
     "output_type": "stream",
     "text": [
      "[ 1.45158] [ 23.89618954]\n",
      "[ 1.15506] [ 21.86741407]\n",
      "[ 2.12182] [ 28.48193913]\n",
      "[ 0.48934] [ 17.31259011]\n",
      "[ 0.85787] [ 19.8340545]\n"
     ]
    }
   ],
   "source": [
    "#XPredict_new = np.array(([0],[2]))\n",
    "#X_new_b = np.c_[np.ones((2,1)),X_new]\n",
    "XPredict_b = np.c_[np.ones((len(XPredict),1)),XPredict]\n",
    "y_predict = XPredict_b.dot(theta_best)\n",
    "for _ in range(len(XPredict)):\n",
    "    print(XPredict[_],y_predict[_])\n",
    "#plot_grad_descent(X,y,learning_rates[1])"
   ]
  },
  {
   "cell_type": "markdown",
   "metadata": {},
   "source": [
    "### Use sklearn"
   ]
  },
  {
   "cell_type": "code",
   "execution_count": 11,
   "metadata": {
    "collapsed": false
   },
   "outputs": [
    {
     "data": {
      "text/plain": [
       "LinearRegression(copy_X=True, fit_intercept=True, n_jobs=1, normalize=False)"
      ]
     },
     "execution_count": 11,
     "metadata": {},
     "output_type": "execute_result"
    }
   ],
   "source": [
    "from sklearn.linear_model import LinearRegression\n",
    "lin_reg = LinearRegression()\n",
    "lin_reg.fit(X,y)"
   ]
  },
  {
   "cell_type": "code",
   "execution_count": 12,
   "metadata": {
    "collapsed": false
   },
   "outputs": [
    {
     "data": {
      "text/plain": [
       "(array([ 13.98918882]), array([[ 6.82242882]]))"
      ]
     },
     "execution_count": 12,
     "metadata": {},
     "output_type": "execute_result"
    }
   ],
   "source": [
    "lin_reg.intercept_, lin_reg.coef_ #thetas"
   ]
  },
  {
   "cell_type": "code",
   "execution_count": 14,
   "metadata": {
    "collapsed": false
   },
   "outputs": [
    {
     "name": "stdout",
     "output_type": "stream",
     "text": [
      "[ 1.84953] [ 23.89249005]\n",
      "[ 1.89349] [ 21.86950345]\n",
      "[ 1.65939] [ 28.46515474]\n",
      "[ 1.13482] [ 17.32767614]\n",
      "[ 0.68154] [ 19.84194583]\n"
     ]
    },
    {
     "ename": "IndexError",
     "evalue": "index 5 is out of bounds for axis 0 with size 5",
     "output_type": "error",
     "traceback": [
      "\u001b[0;31m---------------------------------------------------------------------------\u001b[0m",
      "\u001b[0;31mIndexError\u001b[0m                                Traceback (most recent call last)",
      "\u001b[0;32m<ipython-input-14-518b969db990>\u001b[0m in \u001b[0;36m<module>\u001b[0;34m()\u001b[0m\n\u001b[1;32m      1\u001b[0m \u001b[0;32mfor\u001b[0m \u001b[0m_\u001b[0m \u001b[0;32min\u001b[0m \u001b[0mrange\u001b[0m\u001b[0;34m(\u001b[0m\u001b[0mlen\u001b[0m\u001b[0;34m(\u001b[0m\u001b[0mX\u001b[0m\u001b[0;34m)\u001b[0m\u001b[0;34m-\u001b[0m\u001b[0;36m1\u001b[0m\u001b[0;34m)\u001b[0m\u001b[0;34m:\u001b[0m\u001b[0;34m\u001b[0m\u001b[0m\n\u001b[0;32m----> 2\u001b[0;31m     \u001b[0mprint\u001b[0m\u001b[0;34m(\u001b[0m\u001b[0mX\u001b[0m\u001b[0;34m[\u001b[0m\u001b[0m_\u001b[0m\u001b[0;34m]\u001b[0m\u001b[0;34m,\u001b[0m\u001b[0mlin_reg\u001b[0m\u001b[0;34m.\u001b[0m\u001b[0mpredict\u001b[0m\u001b[0;34m(\u001b[0m\u001b[0mXPredict\u001b[0m\u001b[0;34m)\u001b[0m\u001b[0;34m[\u001b[0m\u001b[0m_\u001b[0m\u001b[0;34m]\u001b[0m\u001b[0;34m)\u001b[0m\u001b[0;34m\u001b[0m\u001b[0m\n\u001b[0m",
      "\u001b[0;31mIndexError\u001b[0m: index 5 is out of bounds for axis 0 with size 5"
     ]
    }
   ],
   "source": [
    "for _ in range(len(X)):\n",
    "    print(X[_],lin_reg.predict(XPredict)[_])"
   ]
  },
  {
   "cell_type": "code",
   "execution_count": null,
   "metadata": {
    "collapsed": true
   },
   "outputs": [],
   "source": []
  }
 ],
 "metadata": {
  "anaconda-cloud": {},
  "kernelspec": {
   "display_name": "Python [default]",
   "language": "python",
   "name": "python3"
  },
  "language_info": {
   "codemirror_mode": {
    "name": "ipython",
    "version": 3
   },
   "file_extension": ".py",
   "mimetype": "text/x-python",
   "name": "python",
   "nbconvert_exporter": "python",
   "pygments_lexer": "ipython3",
   "version": "3.5.2"
  }
 },
 "nbformat": 4,
 "nbformat_minor": 1
}
