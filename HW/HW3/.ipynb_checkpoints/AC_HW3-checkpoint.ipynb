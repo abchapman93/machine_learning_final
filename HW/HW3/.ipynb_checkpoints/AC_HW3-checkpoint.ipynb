{
 "cells": [
  {
   "cell_type": "code",
   "execution_count": 1,
   "metadata": {
    "collapsed": false
   },
   "outputs": [
    {
     "name": "stdout",
     "output_type": "stream",
     "text": [
      "True\n"
     ]
    }
   ],
   "source": [
    "import os\n",
    "%matplotlib inline\n",
    "\n",
    "import matplotlib\n",
    "import numpy as np\n",
    "import matplotlib.pyplot as plt\n",
    "DATADIR = os.path.join(os.path.expanduser('~'),'Downloads','Homework 3 Resources')\n",
    "print(os.path.exists(DATADIR))\n",
    "from numpy import random as rnd\n",
    "import math\n",
    "from sklearn.linear_model import LogisticRegression"
   ]
  },
  {
   "cell_type": "code",
   "execution_count": 2,
   "metadata": {
    "collapsed": false
   },
   "outputs": [
    {
     "data": {
      "text/plain": [
       "True"
      ]
     },
     "execution_count": 2,
     "metadata": {},
     "output_type": "execute_result"
    }
   ],
   "source": [
    "fFeatures = os.path.join(DATADIR, 'X-Classification.txt')\n",
    "fLabels = os.path.join(DATADIR, 'y-Classification.txt')\n",
    "os.path.exists(fLabels)\n",
    "\n",
    "import pandas as pd\n",
    "X = pd.read_csv(fFeatures,header=None)\n",
    "X_array = np.array(X)\n",
    "np.shape(X_array)\n",
    "\n",
    "\n",
    "X1 = np.array(X)[:,[0]]\n",
    "X2 = np.array(X)[:,[1]]\n",
    "\n",
    "y = pd.read_csv(fLabels,header=None)\n",
    "y = np.array(y)[:,[0]]\n",
    "\n",
    "X_b = np.c_[np.ones((len(X_array),1)),X_array]\n"
   ]
  },
  {
   "cell_type": "code",
   "execution_count": 5,
   "metadata": {
    "collapsed": false
   },
   "outputs": [],
   "source": [
    "#classify feature1 and feature2 values by labels\n",
    "class0_indices = []\n",
    "class1_indices = []\n",
    "counter = 0\n",
    "for _ in list(y):\n",
    "    counter += 1\n",
    "    if _[0] == 1.0:\n",
    "        class1_indices.append(counter-1)\n",
    "    else:\n",
    "        class0_indices.append(counter-1)\n",
    "counter = counter-1\n",
    "\n",
    "\n",
    "class1 = []\n",
    "for index in class1_indices:\n",
    "    class1.append([X1[index][0],X2[index][0]])\n",
    "\n",
    "\n",
    "class0 = []\n",
    "for index in class0_indices:\n",
    "    class0.append([X1[index][0],X2[index][0]])\n"
   ]
  },
  {
   "cell_type": "code",
   "execution_count": 6,
   "metadata": {
    "collapsed": false,
    "scrolled": true
   },
   "outputs": [
    {
     "data": {
      "image/png": "[encoded data removed]",
      "text/plain": [
       "<matplotlib.figure.Figure at 0x116fe0a90>"
      ]
     },
     "metadata": {},
     "output_type": "display_data"
    }
   ],
   "source": [
    "#Provide a scatter plot of the data\n",
    "\n",
    "class0_feature1 = [instance[0] for instance in class0]\n",
    "class0_feature2 = [instance[1] for instance in class0]\n",
    "class1_feature1 = [instance[0] for instance in class1]\n",
    "class1_feature2 = [instance[1] for instance in class1]\n",
    "\n",
    "plt.scatter(class0_feature1,class0_feature2,c='r')\n",
    "\n",
    "plt.scatter(class1_feature1,class1_feature2,c='b')\n",
    "plt.xlabel(\"Feature 1\")\n",
    "plt.ylabel(\"Feature 2\")\n",
    "plt.show()\n"
   ]
  },
  {
   "cell_type": "code",
   "execution_count": 7,
   "metadata": {
    "collapsed": false
   },
   "outputs": [],
   "source": [
    "def logistic_function(theta, X):\n",
    "    \"\"\"Inputs theta values (coefficients) \n",
    "    and X values (a 3-column vector).\n",
    "    Outputs a vector of probabilities between 0 and 1\"\"\"\n",
    "    return 1/(1+math.e**(-X.dot(theta))) "
   ]
  },
  {
   "cell_type": "code",
   "execution_count": 193,
   "metadata": {
    "collapsed": false
   },
   "outputs": [
    {
     "data": {
      "text/plain": [
       "0.69314718055994529"
      ]
     },
     "execution_count": 193,
     "metadata": {},
     "output_type": "execute_result"
    }
   ],
   "source": [
    "def cost_function(X, y,theta=np.zeros((3,1))):\n",
    "    \"\"\"Inputs theta, X, and y\n",
    "    Outputs a cost, which is a single value\n",
    "    for the average cost of those specific thetas and all X and y values\"\"\"\n",
    "    m = len(X)\n",
    "    hyp = logistic_function(theta,X)\n",
    "    #return (-1/m)*((y.T.dot(np.log(hyp)))+ (1-y).T.dot(np.log(1-hyp)))[0][0]\n",
    "    #return -np.mean((y*np.log(hyp)) + ((1-y)*(np.log(1-hyp))))#[0]\n",
    "    return -np.mean((y*np.log(hyp)) + ((1-y)*(np.log(1-hyp))))\n",
    "cost_function(X_b,y)"
   ]
  },
  {
   "cell_type": "code",
   "execution_count": 222,
   "metadata": {
    "collapsed": false
   },
   "outputs": [
    {
     "data": {
      "text/plain": [
       "array([[ 0.44391849],\n",
       "       [ 2.52144016],\n",
       "       [ 0.93007853]])"
      ]
     },
     "execution_count": 222,
     "metadata": {},
     "output_type": "execute_result"
    }
   ],
   "source": [
    "def gradient_func(X, y,theta=rnd.rand(3,1)):\n",
    "    \"\"\"Finds the gradient, the sum of the first derivative\n",
    "    of the cost function with respect to EACH theta.\"\"\"\n",
    "    m = len(X)\n",
    "    #return ((logistic_function(theta, X) - y).T.dot(X))\n",
    "    return ((1/m)*(X.T.dot(logistic_function(theta, X) - y)))\n",
    "gradient_func(X_b, y)\n"
   ]
  },
  {
   "cell_type": "code",
   "execution_count": 223,
   "metadata": {
    "collapsed": false
   },
   "outputs": [
    {
     "data": {
      "text/plain": [
       "0.0009118819655545166"
      ]
     },
     "execution_count": 223,
     "metadata": {},
     "output_type": "execute_result"
    }
   ],
   "source": [
    "math.e**-7"
   ]
  },
  {
   "cell_type": "code",
   "execution_count": 270,
   "metadata": {
    "collapsed": false
   },
   "outputs": [
    {
     "name": "stdout",
     "output_type": "stream",
     "text": [
      "Learning rate: 0.0001\n",
      "Cost threshold: 1e-07\n",
      "Number of iterations: 1205888\n",
      "Final cost: 0.335903387474\n",
      "Final change_cost 9.99999149043e-08\n"
     ]
    },
    {
     "data": {
      "text/plain": [
       "array([[ 5.06450911],\n",
       "       [ 0.12112524],\n",
       "       [-3.50048562]])"
      ]
     },
     "execution_count": 270,
     "metadata": {},
     "output_type": "execute_result"
    }
   ],
   "source": [
    "learning_rates = [0.0001, 0.01]\n",
    "thresholds = [0.01,0.0001,10**-7]\n",
    "\n",
    "def gradient_descent(X, y, theta=np.zeros((3,1)),eta=learning_rates[1],cost_thresh=thresholds[-1], graph=False):\n",
    "    model_parameters=[]\n",
    "    m=len(X1)\n",
    "    cost = cost_function(X, y)\n",
    "    #print(cost)\n",
    "    hyp = logistic_function(theta,X)\n",
    "    i = 1\n",
    "    cost_iter=[]\n",
    "    cost_iter.append(cost)\n",
    "    change_cost = 1\n",
    "    #for n in range(60000):\n",
    "    while (abs(change_cost) >= cost_thresh):\n",
    "        old_cost = cost\n",
    "        #print(cost)\n",
    "        gradients = gradient_func(X,y,theta=theta)\n",
    "        #print(theta)\n",
    "        theta = theta - eta*gradients #.T #This T is a guess!!!\n",
    "        #return theta\n",
    "        cost = cost_function(X, y, theta=theta)\n",
    "        #print(cost)\n",
    "\n",
    "        cost_iter.append(cost)\n",
    "        change_cost = old_cost - cost\n",
    "\n",
    "        i += 1\n",
    "    print('Learning rate:',eta)\n",
    "    print('Cost threshold:',cost_thresh)\n",
    "    print('Number of iterations:', i)\n",
    "    print('Final cost:',cost)\n",
    "    print('Final change_cost',change_cost)\n",
    "    if graph == True:\n",
    "        plt.plot([x for x in range(i)],[y for y in cost_iter])\n",
    "        plt.xlabel('Iteration')\n",
    "        plt.ylabel('Cost')\n",
    "        plt.show()\n",
    "        return\n",
    "    else:\n",
    "        return theta\n",
    "gradient_descent(X_b,y,graph=False,eta=learning_rates[0],cost_thresh=thresholds[-1])"
   ]
  },
  {
   "cell_type": "code",
   "execution_count": null,
   "metadata": {
    "collapsed": false
   },
   "outputs": [],
   "source": [
    "thetas_best = gradient_descent(X_b,y,eta=learning_rates[0],cost_thresh=thresholds[-1])\n",
    "thetas_best"
   ]
  },
  {
   "cell_type": "code",
   "execution_count": 243,
   "metadata": {
    "collapsed": false
   },
   "outputs": [],
   "source": [
    "\n",
    "probabilities = 1/(1+math.e**-(X_b.dot(thetas_best)))"
   ]
  },
  {
   "cell_type": "code",
   "execution_count": 244,
   "metadata": {
    "collapsed": false
   },
   "outputs": [
    {
     "data": {
      "image/png": "[encoded data removed]",
      "text/plain": [
       "<matplotlib.figure.Figure at 0x119b0b6a0>"
      ]
     },
     "metadata": {},
     "output_type": "display_data"
    }
   ],
   "source": [
    "plt.scatter(X1,probabilities,c='g')\n",
    "plt.scatter(class0_feature1,class0_feature2,c='r')\n",
    "plt.scatter(class1_feature1,class1_feature2,c='b')\n",
    "plt.xlabel(\"Feature 1\")\n",
    "plt.ylabel(\"Feature 2\")\n",
    "plt.show()"
   ]
  },
  {
   "cell_type": "code",
   "execution_count": 245,
   "metadata": {
    "collapsed": false
   },
   "outputs": [],
   "source": [
    "\n",
    "def predict_y(X,thetas):\n",
    "    hyp = X.dot(thetas)\n",
    "    probabilities = (1/(1+math.e**-hyp))\n",
    "    y_predict = np.zeros(np.shape(probabilities))\n",
    "    for i in range(len(y_predict)):\n",
    "        if probabilities[i] < 0.5:\n",
    "            y_predict[i] = 0\n",
    "        else:\n",
    "            y_predict[i] = 1\n",
    "    return y_predict\n",
    "y_predictions = predict_y(X_b,thetas_best)\n"
   ]
  },
  {
   "cell_type": "code",
   "execution_count": null,
   "metadata": {
    "collapsed": false
   },
   "outputs": [],
   "source": [
    "def evaluate_regression(X,labels,eta=learning_rates[1],cost_thresh=thresholds[1]):\n",
    "    thetas = gradient_descent(X,labels,eta=eta,cost_thresh=cost_thresh)\n",
    "    predictions = predict_y(X, thetas)\n",
    "    m = len(predictions)\n",
    "    true_positives = 0\n",
    "    false_positives = 0\n",
    "    for prediction in range(len(predictions)):\n",
    "        if predictions[prediction] == labels[prediction]:\n",
    "            true_positives += 1\n",
    "        else:\n",
    "            false_positives += 1\n",
    "    accuracy = true_positives/m\n",
    "    false_pos_rate = false_positives/m\n",
    "    print('Accuracy:',accuracy)\n",
    "    print('False positives:',false_pos_rate)\n",
    "    return accuracy\n",
    "evaluate_regression(X_b, y,eta=learning_rates[1],cost_thresh=thresholds[2])"
   ]
  },
  {
   "cell_type": "code",
   "execution_count": 271,
   "metadata": {
    "collapsed": false
   },
   "outputs": [
    {
     "ename": "SyntaxError",
     "evalue": "invalid syntax (<ipython-input-271-40a1e5ac5e18>, line 1)",
     "output_type": "error",
     "traceback": [
      "\u001b[0;36m  File \u001b[0;32m\"<ipython-input-271-40a1e5ac5e18>\"\u001b[0;36m, line \u001b[0;32m1\u001b[0m\n\u001b[0;31m    gradient_descent(X_b, y, graph=True eta=learning_rates[0],cost_thresh=thresholds[2])\u001b[0m\n\u001b[0m                                          ^\u001b[0m\n\u001b[0;31mSyntaxError\u001b[0m\u001b[0;31m:\u001b[0m invalid syntax\n"
     ]
    }
   ],
   "source": [
    "gradient_descent(X_b, y, graph=True eta=learning_rates[0],cost_thresh=thresholds[2])"
   ]
  },
  {
   "cell_type": "code",
   "execution_count": 248,
   "metadata": {
    "collapsed": false
   },
   "outputs": [
    {
     "name": "stderr",
     "output_type": "stream",
     "text": [
      "/Users/alec/anaconda/lib/python3.5/site-packages/sklearn/utils/validation.py:515: DataConversionWarning: A column-vector y was passed when a 1d array was expected. Please change the shape of y to (n_samples, ), for example using ravel().\n",
      "  y = column_or_1d(y, warn=True)\n"
     ]
    },
    {
     "data": {
      "text/plain": [
       "LogisticRegression(C=1.0, class_weight=None, dual=False, fit_intercept=True,\n",
       "          intercept_scaling=1, max_iter=100, multi_class='ovr', n_jobs=1,\n",
       "          penalty='l2', random_state=None, solver='liblinear', tol=0.0001,\n",
       "          verbose=0, warm_start=False)"
      ]
     },
     "execution_count": 248,
     "metadata": {},
     "output_type": "execute_result"
    }
   ],
   "source": [
    "from sklearn.linear_model import LogisticRegression\n",
    "log_reg = LogisticRegression()\n",
    "log_reg.fit(X_b, y)"
   ]
  },
  {
   "cell_type": "code",
   "execution_count": 249,
   "metadata": {
    "collapsed": false
   },
   "outputs": [
    {
     "data": {
      "text/plain": [
       "array([[ 2.74026418, -0.34516482, -2.35784975]])"
      ]
     },
     "execution_count": 249,
     "metadata": {},
     "output_type": "execute_result"
    }
   ],
   "source": [
    "log_reg.coef_"
   ]
  },
  {
   "cell_type": "markdown",
   "metadata": {},
   "source": [
    "#That is waaaaay different from what I had. Maybe that's fine?\n",
    "\n",
    "y = 2.74 - 0.345x1 - 2.358x2"
   ]
  },
  {
   "cell_type": "code",
   "execution_count": 250,
   "metadata": {
    "collapsed": false
   },
   "outputs": [
    {
     "data": {
      "text/plain": [
       "0.93999999999999995"
      ]
     },
     "execution_count": 250,
     "metadata": {},
     "output_type": "execute_result"
    }
   ],
   "source": [
    "log_reg.score(X_b,y)"
   ]
  },
  {
   "cell_type": "code",
   "execution_count": null,
   "metadata": {
    "collapsed": true
   },
   "outputs": [],
   "source": []
  }
 ],
 "metadata": {
  "anaconda-cloud": {},
  "kernelspec": {
   "display_name": "Python [default]",
   "language": "python",
   "name": "python3"
  },
  "language_info": {
   "codemirror_mode": {
    "name": "ipython",
    "version": 3
   },
   "file_extension": ".py",
   "mimetype": "text/x-python",
   "name": "python",
   "nbconvert_exporter": "python",
   "pygments_lexer": "ipython3",
   "version": "3.5.2"
  }
 },
 "nbformat": 4,
 "nbformat_minor": 1
}
