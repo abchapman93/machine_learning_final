{
 "cells": [
  {
   "cell_type": "code",
   "execution_count": 1,
   "metadata": {
    "collapsed": false
   },
   "outputs": [],
   "source": [
    "#!/usr/bin/env python3\n",
    "# -*- coding: utf-8 -*-\n",
    "\"\"\"\n",
    "Created on Thu Mar 30 12:00:24 2017\n",
    "\n",
    "@author: alec\n",
    "\"\"\"\n",
    "import sys, os\n",
    "import pandas as pd\n",
    "import glob\n",
    "import sqlite3 as sqlite\n",
    "import numpy as np\n",
    "import sklearn\n",
    "import re\n",
    "from sklearn.feature_extraction.text import CountVectorizer\n",
    "import matplotlib.pyplot as plt\n",
    "%matplotlib inline"
   ]
  },
  {
   "cell_type": "code",
   "execution_count": 2,
   "metadata": {
    "collapsed": false
   },
   "outputs": [],
   "source": [
    "conn= sqlite.connect('radiology_reports.sqlite')\n",
    "cursor=conn.cursor()\n",
    "\n",
    "#ngram_vectorizer = CountVectorizer(ngram_range=(1,2), token_pattern=r'(?u)\\b\\w\\w+\\b', stop_words=\"english\",  min_df=2)\n",
    "\n",
    "#column names\n",
    "#(0, 'rowid', 'int', 0, None, 0)"
   ]
  },
  {
   "cell_type": "code",
   "execution_count": 3,
   "metadata": {
    "collapsed": false
   },
   "outputs": [],
   "source": [
    "training_notes = pd.read_sql(\"\"\"SELECT * FROM training_notes\"\"\",conn)\n",
    "#training_notes"
   ]
  },
  {
   "cell_type": "code",
   "execution_count": 4,
   "metadata": {
    "collapsed": true
   },
   "outputs": [],
   "source": [
    "training_names = training_notes['name']\n",
    "training_text = training_notes['text']\n",
    "training_labels = training_notes['doc_class']\n",
    "training_content = zip(training_names,training_labels)"
   ]
  },
  {
   "cell_type": "code",
   "execution_count": 5,
   "metadata": {
    "collapsed": false
   },
   "outputs": [],
   "source": [
    "train_text = {x[0]:x[1] for x in zip(training_names,training_text)}\n",
    "train_labels = {x[0]:x[1] for x in zip(training_names,training_labels)}"
   ]
  },
  {
   "cell_type": "markdown",
   "metadata": {},
   "source": [
    "# Preprocessing"
   ]
  },
  {
   "cell_type": "code",
   "execution_count": 6,
   "metadata": {
    "collapsed": false
   },
   "outputs": [],
   "source": [
    "#import nltk\n",
    "\n",
    "#import nltk\n",
    "from nltk.corpus import stopwords\n",
    "stoplist = stopwords.words(\"english\")"
   ]
  },
  {
   "cell_type": "code",
   "execution_count": 7,
   "metadata": {
    "collapsed": true
   },
   "outputs": [],
   "source": [
    "#training\n",
    "documents = [x.lower().strip() for x in training_text]\n",
    "documents = [re.sub(\"[^a-zA-Z?]\", ' ', x).split() for x in documents]\n"
   ]
  },
  {
   "cell_type": "code",
   "execution_count": 8,
   "metadata": {
    "collapsed": false
   },
   "outputs": [],
   "source": [
    "texts = [[word for word in document]\n",
    "        for document in documents]"
   ]
  },
  {
   "cell_type": "code",
   "execution_count": 9,
   "metadata": {
    "collapsed": false
   },
   "outputs": [],
   "source": [
    "from collections import defaultdict\n",
    "frequency = defaultdict(int)\n",
    "for text in texts:\n",
    "    for token in text:\n",
    "        frequency[token] += 1\n",
    "        \n",
    "texts = [[token for token in text if frequency[token] > 1 and token not in stoplist] for text in texts]"
   ]
  },
  {
   "cell_type": "code",
   "execution_count": 10,
   "metadata": {
    "collapsed": false
   },
   "outputs": [],
   "source": [
    "#testing set\n",
    "testing_notes = pd.read_sql(\"\"\"SELECT * FROM testing_notes\"\"\",conn)\n",
    "testing_names = testing_notes['name']\n",
    "testing_text = testing_notes['text']\n",
    "testing_labels = testing_notes['doc_class']\n",
    "testing_content = zip(testing_names,testing_labels)\n",
    "\n",
    "\n",
    "test_documents = [x.lower().strip() for x in testing_text]\n",
    "test_documents = [re.sub(\"[^a-zA-Z?]\", ' ', x).split() for x in test_documents]\n",
    "testing_text = [[word for word in document if word not in stoplist]\n",
    "        for document in test_documents]\n",
    "\n",
    "test_frequency = defaultdict(int)\n",
    "for text in testing_text:\n",
    "    for token in text:\n",
    "        test_frequency[token] += 1\n",
    "        \n",
    "testing_text = [[token for token in text if test_frequency[token] > 1] for text in testing_text]\n",
    "testing_text = [' '.join(x) for x in testing_text]"
   ]
  },
  {
   "cell_type": "markdown",
   "metadata": {},
   "source": [
    "# Convert to vectors"
   ]
  },
  {
   "cell_type": "code",
   "execution_count": 11,
   "metadata": {
    "collapsed": false
   },
   "outputs": [
    {
     "name": "stdout",
     "output_type": "stream",
     "text": [
      "(545, 3816)\n"
     ]
    }
   ],
   "source": [
    "#with sklearn\n",
    "vectorizer = CountVectorizer(analyzer = \"word\",tokenizer=None,preprocessor=None,stop_words=None,max_features=None)\n",
    "\n",
    "texts = [' '.join(x) for x in texts]\n",
    "\n",
    "X = vectorizer.fit_transform(texts).toarray()\n",
    "print(X.shape)"
   ]
  },
  {
   "cell_type": "code",
   "execution_count": 12,
   "metadata": {
    "collapsed": false
   },
   "outputs": [
    {
     "name": "stdout",
     "output_type": "stream",
     "text": [
      "36 aaa\n",
      "8 amylase\n",
      "5 attenuating\n",
      "3 candidate\n",
      "272 collections\n",
      "52 count\n",
      "8 details\n",
      "234 edema\n",
      "59 excrete\n",
      "7 folds\n",
      "11 heavily\n",
      "121 ileus\n",
      "3 intrab\n",
      "20 lies\n",
      "20 median\n",
      "75 ng\n",
      "45 overall\n",
      "15 persists\n",
      "12 presumed\n",
      "22 recently\n",
      "51 rising\n",
      "67 side\n",
      "2 striking\n",
      "2 thank\n",
      "4 typical\n",
      "12 walls\n"
     ]
    }
   ],
   "source": [
    "vocab = vectorizer.get_feature_names()\n",
    "\n",
    "\n",
    "#Sum up the counts of each vocabulary word\n",
    "dist = np.sum(X,axis=0)\n",
    "for tag, count in zip(vocab[::150], dist[::150]):\n",
    "    print(count, tag)"
   ]
  },
  {
   "cell_type": "code",
   "execution_count": 13,
   "metadata": {
    "collapsed": false
   },
   "outputs": [
    {
     "name": "stdout",
     "output_type": "stream",
     "text": [
      "(100, 3816)\n"
     ]
    }
   ],
   "source": [
    "X_test = vectorizer.transform(testing_text)\n",
    "print(X_test.shape)"
   ]
  },
  {
   "cell_type": "markdown",
   "metadata": {
    "collapsed": true
   },
   "source": [
    "# Feature selection and Data transformation"
   ]
  },
  {
   "cell_type": "code",
   "execution_count": 14,
   "metadata": {
    "collapsed": true
   },
   "outputs": [],
   "source": [
    "from sklearn.feature_selection import chi2\n",
    "from sklearn.feature_selection import SelectKBest\n",
    "from math import sqrt"
   ]
  },
  {
   "cell_type": "code",
   "execution_count": 15,
   "metadata": {
    "collapsed": false
   },
   "outputs": [
    {
     "name": "stdout",
     "output_type": "stream",
     "text": [
      "Original shape:  545 3816\n",
      "Square root of original features:  61.773780845922005\n",
      "New shape: 545 61\n"
     ]
    }
   ],
   "source": [
    "chi2(X,training_labels)\n",
    "\n",
    "m,n = np.shape(X)\n",
    "print('Original shape: ',m, n)\n",
    "print('Square root of original features: ', sqrt(n))\n",
    "\n",
    "best_features = SelectKBest(chi2, k=int(sqrt(n)))\n",
    "X_new= best_features.fit_transform(X,training_labels)\n",
    "\n",
    "m, new_n = np.shape(X_new)\n",
    "print('New shape:',m, new_n)\n",
    "#X_test_new = best_features.fit_transform(test_data_features,testing_labels)\n",
    "\n",
    "#Get vocabulary of best features\n",
    "top_ranked_features = sorted(enumerate(best_features.scores_), key=lambda x:x[1], reverse=True)\n",
    "top_ranked_features_indices = list(map(list, zip(*top_ranked_features)))[0]\n"
   ]
  },
  {
   "cell_type": "code",
   "execution_count": 16,
   "metadata": {
    "collapsed": false
   },
   "outputs": [
    {
     "data": {
      "text/plain": [
       "<matplotlib.text.Text at 0x11c8e1d68>"
      ]
     },
     "execution_count": 16,
     "metadata": {},
     "output_type": "execute_result"
    },
    {
     "data": {
      "image/png": "[encoded data removed]",
      "text/plain": [
       "<matplotlib.figure.Figure at 0x11b4a2b38>"
      ]
     },
     "metadata": {},
     "output_type": "display_data"
    }
   ],
   "source": [
    "feature_index, feature_score = list(zip(*top_ranked_features))\n",
    "x_axis, y_axis = zip(*list(enumerate(feature_score)))\n",
    "\n",
    "plt.axis([0,new_n,0,600])\n",
    "plt.plot(x_axis, y_axis)\n",
    "plt.title('Feature index vs. Score')"
   ]
  },
  {
   "cell_type": "code",
   "execution_count": 17,
   "metadata": {
    "collapsed": false
   },
   "outputs": [
    {
     "name": "stdout",
     "output_type": "stream",
     "text": [
      "collection\n",
      "fluid\n",
      "hematoma\n",
      "cm\n",
      "drain\n",
      "drainage\n",
      "collections\n",
      "subcapsular\n",
      "catheter\n",
      "pigtail\n",
      "noted\n",
      "rim\n",
      "extravasation\n",
      "splenectomy\n",
      "hepatic\n",
      "size\n",
      "within\n",
      "measuring\n",
      "chest\n",
      "prior\n",
      "right\n",
      "inferior\n",
      "anterior\n",
      "increased\n",
      "along\n",
      "interval\n",
      "unchanged\n",
      "pancreatitis\n",
      "stable\n",
      "left\n",
      "quadrant\n",
      "enhancement\n",
      "approximately\n",
      "enhancing\n",
      "measures\n",
      "area\n",
      "gastrectomy\n",
      "pelvic\n",
      "active\n",
      "surgical\n",
      "pancreatic\n",
      "perihepatic\n",
      "previously\n",
      "tail\n",
      "post\n",
      "liver\n",
      "abscess\n",
      "bed\n",
      "coronary\n",
      "abscesses\n",
      "drained\n",
      "larger\n",
      "sac\n",
      "drains\n",
      "flank\n",
      "slightly\n",
      "new\n",
      "pulmonary\n",
      "amenable\n",
      "cirrhosis\n",
      "dissection\n"
     ]
    }
   ],
   "source": [
    "top_ranked_features_indices #using the square root of total features\n",
    "for i in top_ranked_features_indices[:new_n]:\n",
    "    print(vocab[i])"
   ]
  },
  {
   "cell_type": "code",
   "execution_count": 18,
   "metadata": {
    "collapsed": false
   },
   "outputs": [
    {
     "data": {
      "text/plain": [
       "(545, 61)"
      ]
     },
     "execution_count": 18,
     "metadata": {},
     "output_type": "execute_result"
    }
   ],
   "source": [
    "np.shape(X_new)"
   ]
  },
  {
   "cell_type": "code",
   "execution_count": 19,
   "metadata": {
    "collapsed": false
   },
   "outputs": [],
   "source": [
    "X_test_new = best_features.transform(X_test)"
   ]
  },
  {
   "cell_type": "code",
   "execution_count": 20,
   "metadata": {
    "collapsed": false
   },
   "outputs": [
    {
     "data": {
      "text/plain": [
       "(100, 61)"
      ]
     },
     "execution_count": 20,
     "metadata": {},
     "output_type": "execute_result"
    }
   ],
   "source": [
    "np.shape(X_test_new)"
   ]
  },
  {
   "cell_type": "markdown",
   "metadata": {},
   "source": [
    "# Implement a Random Forest"
   ]
  },
  {
   "cell_type": "code",
   "execution_count": 21,
   "metadata": {
    "collapsed": false
   },
   "outputs": [
    {
     "data": {
      "text/plain": [
       "1.0"
      ]
     },
     "execution_count": 21,
     "metadata": {},
     "output_type": "execute_result"
    }
   ],
   "source": [
    "from sklearn.ensemble import RandomForestClassifier\n",
    "#fit model to training data\n",
    "forest = RandomForestClassifier(n_estimators = 100)\n",
    "forest = forest.fit(X, training_labels)\n",
    "\n",
    "#measure training accuracy\n",
    "train_result = forest.predict(X)\n",
    "train_output = pd.DataFrame(data={\"file name\":training_names,\"prediction\":train_result,\"label\":training_labels})\n",
    "train_output.head()\n",
    "\n",
    "counter = 0\n",
    "correct = 0\n",
    "incorrect = []\n",
    "for i in range(m):\n",
    "    if train_output['prediction'][i] == train_output['label'][i]:\n",
    "        correct += 1\n",
    "        counter += 1\n",
    "    else:\n",
    "        incorrect.append(train_output['file name'][i])\n",
    "        counter += 1\n",
    "\n",
    "accuracy = correct/counter\n",
    "accuracy"
   ]
  },
  {
   "cell_type": "code",
   "execution_count": 22,
   "metadata": {
    "collapsed": false
   },
   "outputs": [
    {
     "data": {
      "text/plain": [
       "0.87"
      ]
     },
     "execution_count": 22,
     "metadata": {},
     "output_type": "execute_result"
    }
   ],
   "source": [
    "#testing accuracy\n",
    "result = forest.predict(X_test)\n",
    "\n",
    "output = pd.DataFrame(data={\"file name\":testing_names,\"prediction\":result,\"label\":testing_labels})\n",
    "\n",
    "counter = 0\n",
    "correct = 0\n",
    "incorrect = []\n",
    "for i in range(100):\n",
    "    if output['prediction'][i] == output['label'][i]:\n",
    "        correct += 1\n",
    "        counter += 1\n",
    "    else:\n",
    "        incorrect.append(output['file name'][i])\n",
    "        counter += 1\n",
    "\n",
    "accuracy = correct/counter\n",
    "accuracy"
   ]
  },
  {
   "cell_type": "markdown",
   "metadata": {},
   "source": [
    "# Implement a Naive Bayes"
   ]
  },
  {
   "cell_type": "code",
   "execution_count": 23,
   "metadata": {
    "collapsed": false
   },
   "outputs": [
    {
     "data": {
      "text/plain": [
       "MultinomialNB(alpha=1.0, class_prior=None, fit_prior=True)"
      ]
     },
     "execution_count": 23,
     "metadata": {},
     "output_type": "execute_result"
    }
   ],
   "source": [
    "from sklearn.naive_bayes import MultinomialNB\n",
    "\n",
    "mnb = MultinomialNB()\n",
    "#fit model to training data\n",
    "mnb.fit(X, training_labels)"
   ]
  },
  {
   "cell_type": "code",
   "execution_count": 24,
   "metadata": {
    "collapsed": false
   },
   "outputs": [
    {
     "data": {
      "text/plain": [
       "0.9211009174311927"
      ]
     },
     "execution_count": 24,
     "metadata": {},
     "output_type": "execute_result"
    }
   ],
   "source": [
    "#measure training accuracy\n",
    "train_result = mnb.predict(X)\n",
    "train_output = pd.DataFrame(data={\"file name\":training_names,\"prediction\":train_result,\"label\":training_labels})\n",
    "train_output.head()\n",
    "\n",
    "counter = 0\n",
    "correct = 0\n",
    "incorrect = []\n",
    "for i in range(m):\n",
    "    if train_output['prediction'][i] == train_output['label'][i]:\n",
    "        correct += 1\n",
    "        counter += 1\n",
    "    else:\n",
    "        incorrect.append(train_output['file name'][i])\n",
    "        counter += 1\n",
    "\n",
    "accuracy = correct/counter\n",
    "accuracy"
   ]
  },
  {
   "cell_type": "code",
   "execution_count": 25,
   "metadata": {
    "collapsed": false
   },
   "outputs": [
    {
     "data": {
      "text/plain": [
       "0.81"
      ]
     },
     "execution_count": 25,
     "metadata": {},
     "output_type": "execute_result"
    }
   ],
   "source": [
    "result = mnb.predict(X_test)#convert to dense array\n",
    "\n",
    "len(result)\n",
    "\n",
    "output = pd.DataFrame(data={\"file name\":testing_names,\"prediction\":result,\"label\":testing_labels})\n",
    "\n",
    "counter = 0\n",
    "correct = 0\n",
    "incorrect = []\n",
    "for i in range(100):\n",
    "    if output['prediction'][i] == output['label'][i]:\n",
    "        correct += 1\n",
    "        counter += 1\n",
    "    else:\n",
    "        incorrect.append(output['file name'][i])\n",
    "        counter += 1\n",
    "accuracy = correct/counter\n",
    "accuracy #got .67 with a Gaussian Naive Bayes"
   ]
  },
  {
   "cell_type": "code",
   "execution_count": null,
   "metadata": {
    "collapsed": true
   },
   "outputs": [],
   "source": []
  }
 ],
 "metadata": {
  "anaconda-cloud": {},
  "kernelspec": {
   "display_name": "Python [default]",
   "language": "python",
   "name": "python3"
  },
  "language_info": {
   "codemirror_mode": {
    "name": "ipython",
    "version": 3
   },
   "file_extension": ".py",
   "mimetype": "text/x-python",
   "name": "python",
   "nbconvert_exporter": "python",
   "pygments_lexer": "ipython3",
   "version": "3.5.2"
  }
 },
 "nbformat": 4,
 "nbformat_minor": 1
}
